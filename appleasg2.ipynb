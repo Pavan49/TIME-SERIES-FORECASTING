{
 "cells": [
  {
   "cell_type": "markdown",
   "metadata": {},
   "source": [
    "### imports\n"
   ]
  },
  {
   "cell_type": "code",
   "execution_count": 15,
   "metadata": {},
   "outputs": [],
   "source": [
    "import pandas as pd\n",
    "import numpy as np\n",
    "import matplotlib.pyplot as plt\n",
    "import scipy.stats as st\n",
    "\n",
    "%matplotlib inline\n",
    "\n",
    "from collections.abc import Sequence\n",
    "from sklearn import preprocessing\n",
    "import matplotlib.pyplot as plt\n",
    "import io\n",
    "import requests\n",
    "import shutil\n",
    "import os\n",
    "\n",
    "from sklearn.model_selection import train_test_split\n",
    "from tensorflow.keras.models import Sequential\n",
    "from tensorflow.keras.layers import Dense, Activation\n",
    "from tensorflow.keras.callbacks import EarlyStopping\n",
    "from tensorflow.keras.callbacks import ModelCheckpoint\n",
    "from tensorflow.keras import optimizers\n",
    "from sklearn import metrics"
   ]
  },
  {
   "cell_type": "markdown",
   "metadata": {},
   "source": [
    "## Helper functions"
   ]
  },
  {
   "cell_type": "code",
   "execution_count": 16,
   "metadata": {},
   "outputs": [],
   "source": [
    "\n",
    "# Encode text values to dummy variables(i.e. [1,0,0],[0,1,0],[0,0,1] for red,green,blue)\n",
    "def encode_text_dummy(df, name):\n",
    "    dummies = pd.get_dummies(df[name])\n",
    "    for x in dummies.columns:\n",
    "        dummy_name = \"{}-{}\".format(name, x)\n",
    "        df[dummy_name] = dummies[x]\n",
    "    df.drop(name, axis=1, inplace=True)\n",
    "\n",
    "\n",
    "# Encode text values to indexes(i.e. [1],[2],[3] for red,green,blue).\n",
    "def encode_text_index(df, name):\n",
    "    le = preprocessing.LabelEncoder()\n",
    "    df[name] = le.fit_transform(df[name])\n",
    "    return le.classes_\n",
    "\n",
    "\n",
    "# Encode a numeric column as zscores\n",
    "def encode_numeric_zscore(df, name, mean=None, sd=None):\n",
    "    if mean is None:\n",
    "        mean = df[name].mean()\n",
    "\n",
    "    if sd is None:\n",
    "        sd = df[name].std()\n",
    "\n",
    "    df[name] = (df[name] - mean) / sd\n",
    "\n",
    "\n",
    "# Convert all missing values in the specified column to the median\n",
    "def missing_median(df, name):\n",
    "    med = df[name].median()\n",
    "    df[name] = df[name].fillna(med)\n",
    "\n",
    "\n",
    "# Convert all missing values in the specified column to the default\n",
    "def missing_default(df, name, default_value):\n",
    "    df[name] = df[name].fillna(default_value)\n",
    "    \n",
    "# Nicely formatted time string\n",
    "def hms_string(sec_elapsed):\n",
    "    h = int(sec_elapsed / (60 * 60))\n",
    "    m = int((sec_elapsed % (60 * 60)) / 60)\n",
    "    s = sec_elapsed % 60\n",
    "    return \"{}:{:>02}:{:>05.2f}\".format(h, m, s)\n",
    "\n",
    "    # Regression chart.\n",
    "def chart_regression(pred,y,sort=True):\n",
    "    t = pd.DataFrame({'pred' : pred, 'y' : y.flatten()})\n",
    "    if sort:\n",
    "        t.sort_values(by=['y'],inplace=True)\n",
    "    a = plt.plot(t['y'].tolist(),label='expected')\n",
    "    b = plt.plot(t['pred'].tolist(),label='prediction')\n",
    "    plt.ylabel('output')\n",
    "    plt.legend()\n",
    "    plt.show()\n",
    "\n",
    "# Remove all rows where the specified column is +/- sd standard deviations\n",
    "def remove_outliers(df, name, sd):\n",
    "    drop_rows = df.index[(np.abs(df[name] - df[name].mean()) >= (sd * df[name].std()))]\n",
    "    df.drop(drop_rows, axis=0, inplace=True)\n",
    "\n",
    "\n",
    "# Encode a column to a range between normalized_low and normalized_high.\n",
    "def encode_numeric_range(df, name, normalized_low=-1, normalized_high=1,\n",
    "                         data_low=None, data_high=None):\n",
    "    if data_low is None:\n",
    "        data_low = min(df[name])\n",
    "        data_high = max(df[name])\n",
    "\n",
    "    df[name] = ((df[name] - data_low) / (data_high - data_low)) \\\n",
    "               * (normalized_high - normalized_low) + normalized_low\n"
   ]
  },
  {
   "cell_type": "code",
   "execution_count": 17,
   "metadata": {},
   "outputs": [
    {
     "name": "stdout",
     "output_type": "stream",
     "text": [
      "         Date      Open      High       Low     Close  Adj Close       Volume\n",
      "0  1980-12-12  0.513393  0.515625  0.513393  0.513393   0.023186  117258400.0\n",
      "1  1980-12-15  0.488839  0.488839  0.486607  0.486607   0.021977   43971200.0\n",
      "2  1980-12-16  0.453125  0.453125  0.450893  0.450893   0.020364   26432000.0\n",
      "3  1980-12-17  0.462054  0.464286  0.462054  0.462054   0.020868   21610400.0\n",
      "4  1980-12-18  0.475446  0.477679  0.475446  0.475446   0.021473   18362400.0\n",
      "            Date        Open        High         Low       Close   Adj Close  \\\n",
      "9551  2018-10-26  215.899994  220.190002  212.669998  216.300003  216.300003   \n",
      "9552  2018-10-29  219.190002  219.690002  206.089996  212.240005  212.240005   \n",
      "9553  2018-10-30  211.149994  215.179993  209.270004  213.300003  213.300003   \n",
      "9554  2018-10-31  216.880005  220.449997  216.619995  218.860001  218.860001   \n",
      "9555  2018-11-01  219.050003  222.360001  216.809998  222.220001  222.220001   \n",
      "\n",
      "          Volume  \n",
      "9551  47258400.0  \n",
      "9552  45935500.0  \n",
      "9553  36660000.0  \n",
      "9554  38358900.0  \n",
      "9555  56810000.0  \n",
      "\n",
      "Number of columns and row currently:\n",
      "Data:  (9556, 7)\n"
     ]
    }
   ],
   "source": [
    "path = \"/Users/pavan/Desktop/ai 2nd pro\"\n",
    "csvfile = os.path.join(path,\"AAPL.csv\") \n",
    "df_stock = pd.read_csv(csvfile)\n",
    "\n",
    "#print first and last 5 rows in new csv file \n",
    "print(df_stock.head())\n",
    "print(df_stock.tail())\n",
    "\n",
    "print(\"\\nNumber of columns and row currently:\")\n",
    "print(\"Data: \", df_stock.shape)"
   ]
  },
  {
   "cell_type": "markdown",
   "metadata": {},
   "source": [
    "### Drop missing values and columns "
   ]
  },
  {
   "cell_type": "code",
   "execution_count": 18,
   "metadata": {},
   "outputs": [
    {
     "name": "stdout",
     "output_type": "stream",
     "text": [
      "       Open      High       Low     Close       Volume\n",
      "0  0.513393  0.515625  0.513393  0.513393  117258400.0\n",
      "1  0.488839  0.488839  0.486607  0.486607   43971200.0\n",
      "2  0.453125  0.453125  0.450893  0.450893   26432000.0\n",
      "3  0.462054  0.464286  0.462054  0.462054   21610400.0\n",
      "4  0.475446  0.477679  0.475446  0.475446   18362400.0\n",
      "\n",
      "Number of col/row currently:\n",
      "Data:  (9555, 5)\n",
      "\n",
      "count of NaN in each column\n",
      "Open      0\n",
      "High      0\n",
      "Low       0\n",
      "Close     0\n",
      "Volume    0\n",
      "dtype: int64\n"
     ]
    }
   ],
   "source": [
    "# Storing in a different dataframe before dropping the columns\n",
    "df_newstock= df_stock\n",
    "\n",
    "# Drop rows if there are any missing values\n",
    "df_newstock.isnull().all(axis=1)\n",
    "df_newstock = df_newstock.dropna()\n",
    "\n",
    "# Dropping the columns Date and Adj_Close as mentioned\n",
    "df_newstock=df_newstock.drop(['Date', 'Adj Close'], axis=1)\n",
    "\n",
    "#print first 5 rows in new csv file\n",
    "print(df_newstock.head())\n",
    "\n",
    "\n",
    "print(\"\\nNumber of col/row currently:\")\n",
    "print(\"Data: \", df_newstock.shape)\n",
    "\n",
    "#data about count of NaN in each column\n",
    "print(\"\\ncount of NaN in each column\")\n",
    "print(df_newstock.isnull().sum())"
   ]
  },
  {
   "cell_type": "code",
   "execution_count": 19,
   "metadata": {},
   "outputs": [
    {
     "name": "stdout",
     "output_type": "stream",
     "text": [
      "       Open      High       Low     Close       Volume         y\n",
      "0  0.513393  0.515625  0.513393  0.513393  117258400.0  0.513393\n",
      "1  0.488839  0.488839  0.486607  0.486607   43971200.0  0.486607\n",
      "2  0.453125  0.453125  0.450893  0.450893   26432000.0  0.450893\n",
      "3  0.462054  0.464286  0.462054  0.462054   21610400.0  0.462054\n",
      "4  0.475446  0.477679  0.475446  0.475446   18362400.0  0.475446\n",
      "\n",
      "Number of col/row currently:\n",
      "Data:  (9555, 6)\n"
     ]
    }
   ],
   "source": [
    "# creating a copy of the column, Close\n",
    "df_newstock['y'] = df_newstock['Close']\n",
    "#print first 5 rows in new csv file\n",
    "print(df_newstock.head())\n",
    "\n",
    "print(\"\\nNumber of col/row currently:\")\n",
    "print(\"Data: \", df_newstock.shape)"
   ]
  },
  {
   "cell_type": "code",
   "execution_count": 20,
   "metadata": {},
   "outputs": [
    {
     "name": "stdout",
     "output_type": "stream",
     "text": [
      "       Open      High       Low     Close       Volume         y\n",
      "0  0.513393  0.515625  0.513393  0.513393  117258400.0  0.513393\n",
      "1  0.488839  0.488839  0.486607  0.486607   43971200.0  0.486607\n",
      "2  0.453125  0.453125  0.450893  0.450893   26432000.0  0.450893\n",
      "3  0.462054  0.464286  0.462054  0.462054   21610400.0  0.462054\n",
      "4  0.475446  0.477679  0.475446  0.475446   18362400.0  0.475446\n",
      "\n",
      "Number of col/row currently:\n",
      "Data:  (9555, 6)\n"
     ]
    }
   ],
   "source": [
    "# creating a copy of the column, Close\n",
    "df_newstock['y'] = df_newstock['Close']\n",
    "#print first 5 rows in new csv file\n",
    "print(df_newstock.head())\n",
    "\n",
    "print(\"\\nNumber of col/row currently:\")\n",
    "print(\"Data: \", df_newstock.shape)"
   ]
  },
  {
   "cell_type": "markdown",
   "metadata": {},
   "source": [
    "### NORMALIZE NUMERICAL FEATURES"
   ]
  },
  {
   "cell_type": "code",
   "execution_count": 21,
   "metadata": {},
   "outputs": [
    {
     "name": "stdout",
     "output_type": "stream",
     "text": [
      "       Open      High       Low     Close    Volume         y\n",
      "0 -0.547665 -0.548357 -0.546670 -0.547549  0.339526  0.513393\n",
      "1 -0.548200 -0.548935 -0.547258 -0.548132 -0.503884  0.486607\n",
      "2 -0.548977 -0.549706 -0.548042 -0.548909 -0.705730  0.450893\n",
      "3 -0.548782 -0.549465 -0.547797 -0.548666 -0.761218  0.462054\n",
      "4 -0.548491 -0.549176 -0.547503 -0.548374 -0.798597  0.475446\n"
     ]
    }
   ],
   "source": [
    "#Normalizing except  last column y\n",
    "for column in df_newstock.columns:\n",
    "  if  column != 'y':\n",
    "    encode_numeric_zscore(df_newstock, column)\n",
    "\n",
    "#print first  5 rows in new csv file to check for normalizing\n",
    "print(df_newstock.head())"
   ]
  },
  {
   "cell_type": "code",
   "execution_count": 22,
   "metadata": {},
   "outputs": [
    {
     "name": "stdout",
     "output_type": "stream",
     "text": [
      "(9555, 5)\n",
      "(9555,)\n"
     ]
    }
   ],
   "source": [
    "# Set all column other than y as input or 'x'\n",
    "x = df_newstock.iloc[:,df_newstock.columns != 'y']\n",
    "x = np.array(x, dtype=np.float32)\n",
    "\n",
    "# Set the y column as output or 'y'\n",
    "y = np.array(df_newstock['y'].values, dtype=np.float32)\n",
    "print(x.shape)\n",
    "print(y.shape)"
   ]
  },
  {
   "cell_type": "code",
   "execution_count": 23,
   "metadata": {},
   "outputs": [],
   "source": [
    "import numpy as np\n",
    "\n",
    "def to_sequences(seq_size, data1, data2):\n",
    "    x = []\n",
    "    y = []\n",
    "\n",
    "    for i in range(len(data1)-seq_size):\n",
    "        #print(i)\n",
    "        window = data1[i:(i+seq_size)]\n",
    "        after_window = data2[i+seq_size]\n",
    "        window = [[x] for x in window]\n",
    "        #print(\"{} - {}\".format(window,after_window))\n",
    "        x.append(window)\n",
    "        y.append(after_window)\n",
    "        \n",
    "    return np.array(x), np.array(y)"
   ]
  },
  {
   "cell_type": "code",
   "execution_count": 24,
   "metadata": {},
   "outputs": [
    {
     "name": "stdout",
     "output_type": "stream",
     "text": [
      "Shape of x_lstseq: (9554, 1, 1, 5)\n",
      "Shape of y_lstseq: (9554,)\n"
     ]
    }
   ],
   "source": [
    "SEQUENCE_SIZE = 1\n",
    "#x_lstm_seq_test,y_lstm_seq_test = to_sequences(SEQUENCE_SIZE,X_test,y_test)\n",
    "x_lstseq, y_lstseq = to_sequences(SEQUENCE_SIZE, x, y)\n",
    "\n",
    "#print(\"Shape of x_test: {}\".format(x_lstm_seq_test.shape))\n",
    "print(\"Shape of x_lstseq: {}\".format(x_lstseq.shape))\n",
    "#print(\"Shape of y_test: {}\".format(y_lstm_seq_test.shape))\n",
    "print(\"Shape of y_lstseq: {}\".format(y_lstseq.shape))"
   ]
  },
  {
   "cell_type": "code",
   "execution_count": 25,
   "metadata": {},
   "outputs": [],
   "source": [
    "#reshaping the array\n",
    "x_seq= x_lstseq.reshape(9554,5)\n"
   ]
  },
  {
   "cell_type": "markdown",
   "metadata": {},
   "source": [
    "# Split train and test date 70/30"
   ]
  },
  {
   "cell_type": "code",
   "execution_count": 26,
   "metadata": {},
   "outputs": [
    {
     "name": "stdout",
     "output_type": "stream",
     "text": [
      "Shape of x_train :(6687, 5)\n",
      "Shape of x_test  :(2867, 5)\n",
      "Shape of y_train :(6687,)\n",
      "Shape of y_test  :(2867,)\n"
     ]
    },
    {
     "data": {
      "text/plain": [
       "(numpy.ndarray, numpy.ndarray, numpy.ndarray, numpy.ndarray)"
      ]
     },
     "execution_count": 26,
     "metadata": {},
     "output_type": "execute_result"
    }
   ],
   "source": [
    "##Split train and test date 70/30\n",
    "x_train, x_test, y_train, y_test = train_test_split(x_seq, y_lstseq, test_size=0.3, random_state=0)\n",
    "\n",
    "print(\"Shape of x_train :{}\".format(x_train.shape))\n",
    "print(\"Shape of x_test  :{}\".format(x_test.shape))\n",
    "\n",
    "print(\"Shape of y_train :{}\".format(y_train.shape))\n",
    "print(\"Shape of y_test  :{}\".format(y_test.shape))\n",
    "\n",
    "type(x_test),type(y_test),type(x_train),type(y_train)\n"
   ]
  },
  {
   "cell_type": "markdown",
   "metadata": {},
   "source": [
    "# NEURAL NETWORKS\n"
   ]
  },
  {
   "cell_type": "code",
   "execution_count": 27,
   "metadata": {},
   "outputs": [
    {
     "name": "stdout",
     "output_type": "stream",
     "text": [
      "Optimizer  used:  adam  Activation Function used :  relu\n",
      "Train on 6687 samples, validate on 2867 samples\n",
      "Epoch 1/200\n",
      "6687/6687 - 2s - loss: 957.4064 - val_loss: 15.4772\n",
      "Epoch 2/200\n",
      "6687/6687 - 0s - loss: 8.7726 - val_loss: 3.0617\n",
      "Epoch 3/200\n",
      "6687/6687 - 0s - loss: 1.4426 - val_loss: 0.9082\n",
      "Epoch 4/200\n",
      "6687/6687 - 0s - loss: 0.8370 - val_loss: 0.7965\n",
      "Epoch 5/200\n",
      "6687/6687 - 0s - loss: 0.7885 - val_loss: 0.7335\n",
      "Epoch 6/200\n",
      "6687/6687 - 0s - loss: 0.7608 - val_loss: 0.7915\n",
      "Epoch 7/200\n",
      "6687/6687 - 0s - loss: 0.7632 - val_loss: 0.7280\n",
      "Epoch 8/200\n",
      "6687/6687 - 0s - loss: 0.7579 - val_loss: 0.8941\n",
      "Epoch 9/200\n",
      "6687/6687 - 0s - loss: 0.7986 - val_loss: 0.7730\n",
      "Epoch 10/200\n",
      "6687/6687 - 0s - loss: 0.8117 - val_loss: 0.8444\n",
      "Epoch 11/200\n",
      "6687/6687 - 0s - loss: 0.7834 - val_loss: 0.7557\n",
      "Epoch 12/200\n",
      "6687/6687 - 0s - loss: 0.7966 - val_loss: 0.7279\n",
      "Epoch 00012: early stopping\n",
      "Score_train (RMSE): 0.841701090335846\n",
      "Score_test (RMSE): 0.8531692624092102\n"
     ]
    },
    {
     "data": {
      "image/png": "[encoded data removed]",
      "text/plain": [
       "<Figure size 432x288 with 1 Axes>"
      ]
     },
     "metadata": {
      "needs_background": "light"
     },
     "output_type": "display_data"
    },
    {
     "data": {
      "image/png": "[encoded data removed]",
      "text/plain": [
       "<Figure size 432x288 with 1 Axes>"
      ]
     },
     "metadata": {
      "needs_background": "light"
     },
     "output_type": "display_data"
    },
    {
     "name": "stdout",
     "output_type": "stream",
     "text": [
      "Optimizer  used:  adam  Activation Function used :  sigmoid\n",
      "Train on 6687 samples, validate on 2867 samples\n",
      "Epoch 1/200\n",
      "6687/6687 - 2s - loss: 2664.3585 - val_loss: 2326.6878\n",
      "Epoch 2/200\n",
      "6687/6687 - 0s - loss: 2468.6115 - val_loss: 2182.7099\n",
      "Epoch 3/200\n",
      "6687/6687 - 0s - loss: 2346.2443 - val_loss: 2088.8479\n",
      "Epoch 4/200\n",
      "6687/6687 - 0s - loss: 2262.0470 - val_loss: 1968.9262\n",
      "Epoch 5/200\n",
      "6687/6687 - 0s - loss: 2002.4646 - val_loss: 1687.7319\n",
      "Epoch 6/200\n",
      "6687/6687 - 0s - loss: 1798.0630 - val_loss: 1519.2039\n",
      "Epoch 7/200\n",
      "6687/6687 - 0s - loss: 1635.6476 - val_loss: 1376.5393\n",
      "Epoch 8/200\n",
      "6687/6687 - 0s - loss: 1495.1506 - val_loss: 1253.2334\n",
      "Epoch 9/200\n",
      "6687/6687 - 0s - loss: 1371.0242 - val_loss: 1142.6262\n",
      "Epoch 10/200\n",
      "6687/6687 - 0s - loss: 1259.4386 - val_loss: 1044.6514\n",
      "Epoch 11/200\n",
      "6687/6687 - 0s - loss: 1158.6267 - val_loss: 955.0017\n",
      "Epoch 12/200\n",
      "6687/6687 - 0s - loss: 1067.1424 - val_loss: 876.0560\n",
      "Epoch 13/200\n",
      "6687/6687 - 0s - loss: 983.8532 - val_loss: 802.6266\n",
      "Epoch 14/200\n",
      "6687/6687 - 0s - loss: 907.0326 - val_loss: 735.3339\n",
      "Epoch 15/200\n",
      "6687/6687 - 0s - loss: 836.2545 - val_loss: 674.4095\n",
      "Epoch 16/200\n",
      "6687/6687 - 0s - loss: 771.4057 - val_loss: 618.2744\n",
      "Epoch 17/200\n",
      "6687/6687 - 0s - loss: 711.7261 - val_loss: 567.1877\n",
      "Epoch 18/200\n",
      "6687/6687 - 0s - loss: 656.6715 - val_loss: 520.6708\n",
      "Epoch 19/200\n",
      "6687/6687 - 0s - loss: 605.8868 - val_loss: 477.2325\n",
      "Epoch 20/200\n",
      "6687/6687 - 0s - loss: 558.9221 - val_loss: 438.5968\n",
      "Epoch 21/200\n",
      "6687/6687 - 0s - loss: 515.5550 - val_loss: 402.0541\n",
      "Epoch 22/200\n",
      "6687/6687 - 0s - loss: 475.4091 - val_loss: 369.1672\n",
      "Epoch 23/200\n",
      "6687/6687 - 0s - loss: 438.4004 - val_loss: 338.8121\n",
      "Epoch 24/200\n",
      "6687/6687 - 0s - loss: 404.2198 - val_loss: 311.3659\n",
      "Epoch 25/200\n",
      "6687/6687 - 0s - loss: 372.6786 - val_loss: 285.6867\n",
      "Epoch 26/200\n",
      "6687/6687 - 0s - loss: 343.7367 - val_loss: 262.4223\n",
      "Epoch 27/200\n",
      "6687/6687 - 0s - loss: 317.2073 - val_loss: 241.3173\n",
      "Epoch 28/200\n",
      "6687/6687 - 0s - loss: 292.7770 - val_loss: 222.1242\n",
      "Epoch 29/200\n",
      "6687/6687 - 0s - loss: 270.2343 - val_loss: 204.2383\n",
      "Epoch 30/200\n",
      "6687/6687 - 0s - loss: 249.3506 - val_loss: 187.7768\n",
      "Epoch 31/200\n",
      "6687/6687 - 0s - loss: 230.0969 - val_loss: 172.7228\n",
      "Epoch 32/200\n",
      "6687/6687 - 0s - loss: 212.2964 - val_loss: 159.1512\n",
      "Epoch 33/200\n",
      "6687/6687 - 0s - loss: 195.8618 - val_loss: 146.5336\n",
      "Epoch 34/200\n",
      "6687/6687 - 0s - loss: 180.6161 - val_loss: 134.8193\n",
      "Epoch 35/200\n",
      "6687/6687 - 0s - loss: 166.5089 - val_loss: 124.0126\n",
      "Epoch 36/200\n",
      "6687/6687 - 0s - loss: 153.3496 - val_loss: 113.8081\n",
      "Epoch 37/200\n",
      "6687/6687 - 0s - loss: 141.0570 - val_loss: 104.5978\n",
      "Epoch 38/200\n",
      "6687/6687 - 0s - loss: 129.6202 - val_loss: 95.8499\n",
      "Epoch 39/200\n",
      "6687/6687 - 0s - loss: 119.0040 - val_loss: 87.6632\n",
      "Epoch 40/200\n",
      "6687/6687 - 0s - loss: 109.0300 - val_loss: 80.4564\n",
      "Epoch 41/200\n",
      "6687/6687 - 0s - loss: 99.8836 - val_loss: 73.3214\n",
      "Epoch 42/200\n",
      "6687/6687 - 0s - loss: 91.2868 - val_loss: 67.0191\n",
      "Epoch 43/200\n",
      "6687/6687 - 0s - loss: 83.3839 - val_loss: 61.1471\n",
      "Epoch 44/200\n",
      "6687/6687 - 0s - loss: 76.0583 - val_loss: 55.6939\n",
      "Epoch 45/200\n",
      "6687/6687 - 0s - loss: 69.3262 - val_loss: 50.5790\n",
      "Epoch 46/200\n",
      "6687/6687 - 0s - loss: 63.1353 - val_loss: 46.2211\n",
      "Epoch 47/200\n",
      "6687/6687 - 0s - loss: 57.4657 - val_loss: 42.0993\n",
      "Epoch 48/200\n",
      "6687/6687 - 0s - loss: 52.1974 - val_loss: 38.2623\n",
      "Epoch 49/200\n",
      "6687/6687 - 0s - loss: 47.4354 - val_loss: 34.9177\n",
      "Epoch 50/200\n",
      "6687/6687 - 0s - loss: 43.1020 - val_loss: 31.7773\n",
      "Epoch 51/200\n",
      "6687/6687 - 0s - loss: 39.1891 - val_loss: 28.8445\n",
      "Epoch 52/200\n",
      "6687/6687 - 0s - loss: 35.6249 - val_loss: 26.3765\n",
      "Epoch 53/200\n",
      "6687/6687 - 0s - loss: 32.4399 - val_loss: 24.2084\n",
      "Epoch 54/200\n",
      "6687/6687 - 0s - loss: 29.4993 - val_loss: 22.2699\n",
      "Epoch 55/200\n",
      "6687/6687 - 0s - loss: 26.8459 - val_loss: 20.5217\n",
      "Epoch 56/200\n",
      "6687/6687 - 0s - loss: 24.4515 - val_loss: 18.4939\n",
      "Epoch 57/200\n",
      "6687/6687 - 0s - loss: 22.2572 - val_loss: 17.0682\n",
      "Epoch 58/200\n",
      "6687/6687 - 0s - loss: 20.2936 - val_loss: 15.7924\n",
      "Epoch 59/200\n",
      "6687/6687 - 0s - loss: 18.5471 - val_loss: 14.5366\n",
      "Epoch 60/200\n",
      "6687/6687 - 0s - loss: 16.9713 - val_loss: 13.4240\n",
      "Epoch 61/200\n",
      "6687/6687 - 0s - loss: 15.5383 - val_loss: 12.3533\n",
      "Epoch 62/200\n",
      "6687/6687 - 0s - loss: 14.2316 - val_loss: 11.3916\n",
      "Epoch 63/200\n",
      "6687/6687 - 0s - loss: 12.9836 - val_loss: 10.6578\n",
      "Epoch 64/200\n",
      "6687/6687 - 0s - loss: 11.8604 - val_loss: 9.6713\n",
      "Epoch 65/200\n",
      "6687/6687 - 0s - loss: 10.8482 - val_loss: 8.9442\n",
      "Epoch 66/200\n",
      "6687/6687 - 0s - loss: 9.9694 - val_loss: 8.2753\n",
      "Epoch 67/200\n",
      "6687/6687 - 0s - loss: 9.1589 - val_loss: 7.8658\n",
      "Epoch 68/200\n",
      "6687/6687 - 0s - loss: 8.3149 - val_loss: 6.9525\n",
      "Epoch 69/200\n",
      "6687/6687 - 0s - loss: 7.5815 - val_loss: 6.3818\n",
      "Epoch 70/200\n",
      "6687/6687 - 0s - loss: 6.9586 - val_loss: 6.0156\n",
      "Epoch 71/200\n",
      "6687/6687 - 0s - loss: 6.3993 - val_loss: 5.4332\n",
      "Epoch 72/200\n",
      "6687/6687 - 0s - loss: 5.8512 - val_loss: 4.9593\n",
      "Epoch 73/200\n",
      "6687/6687 - 0s - loss: 5.3052 - val_loss: 4.5709\n",
      "Epoch 74/200\n",
      "6687/6687 - 0s - loss: 4.8047 - val_loss: 4.2600\n",
      "Epoch 75/200\n",
      "6687/6687 - 0s - loss: 4.4508 - val_loss: 3.7953\n",
      "Epoch 76/200\n",
      "6687/6687 - 0s - loss: 3.9889 - val_loss: 3.4548\n",
      "Epoch 77/200\n",
      "6687/6687 - 0s - loss: 3.6345 - val_loss: 3.5066\n",
      "Epoch 78/200\n",
      "6687/6687 - 0s - loss: 3.2658 - val_loss: 3.1579\n",
      "Epoch 79/200\n",
      "6687/6687 - 0s - loss: 3.0362 - val_loss: 2.6182\n",
      "Epoch 80/200\n",
      "6687/6687 - 0s - loss: 2.7127 - val_loss: 2.6198\n",
      "Epoch 81/200\n",
      "6687/6687 - 0s - loss: 2.5036 - val_loss: 2.1721\n",
      "Epoch 82/200\n",
      "6687/6687 - 0s - loss: 2.2639 - val_loss: 1.9708\n",
      "Epoch 83/200\n",
      "6687/6687 - 0s - loss: 2.0547 - val_loss: 1.9378\n",
      "Epoch 84/200\n",
      "6687/6687 - 0s - loss: 1.9119 - val_loss: 1.7126\n",
      "Epoch 85/200\n",
      "6687/6687 - 0s - loss: 1.7500 - val_loss: 1.6421\n",
      "Epoch 86/200\n",
      "6687/6687 - 0s - loss: 1.5966 - val_loss: 1.4675\n",
      "Epoch 87/200\n",
      "6687/6687 - 0s - loss: 1.4203 - val_loss: 1.6106\n",
      "Epoch 88/200\n",
      "6687/6687 - 0s - loss: 1.3899 - val_loss: 1.2013\n",
      "Epoch 89/200\n",
      "6687/6687 - 0s - loss: 1.2982 - val_loss: 1.2120\n",
      "Epoch 90/200\n",
      "6687/6687 - 0s - loss: 1.2041 - val_loss: 1.1252\n",
      "Epoch 91/200\n",
      "6687/6687 - 0s - loss: 1.1546 - val_loss: 1.0727\n",
      "Epoch 92/200\n",
      "6687/6687 - 0s - loss: 1.0776 - val_loss: 0.9843\n",
      "Epoch 93/200\n",
      "6687/6687 - 0s - loss: 1.0732 - val_loss: 1.1009\n",
      "Epoch 94/200\n",
      "6687/6687 - 0s - loss: 1.0830 - val_loss: 1.3417\n",
      "Epoch 95/200\n",
      "6687/6687 - 0s - loss: 0.9965 - val_loss: 1.1890\n",
      "Epoch 96/200\n",
      "6687/6687 - 0s - loss: 0.9834 - val_loss: 0.8808\n",
      "Epoch 97/200\n",
      "6687/6687 - 0s - loss: 0.9135 - val_loss: 0.8985\n",
      "Epoch 98/200\n",
      "6687/6687 - 0s - loss: 0.9064 - val_loss: 0.8399\n",
      "Epoch 99/200\n",
      "6687/6687 - 0s - loss: 0.9327 - val_loss: 0.8250\n",
      "Epoch 100/200\n",
      "6687/6687 - 0s - loss: 0.8817 - val_loss: 1.0037\n",
      "Epoch 101/200\n",
      "6687/6687 - 0s - loss: 0.8692 - val_loss: 0.7652\n",
      "Epoch 102/200\n",
      "6687/6687 - 0s - loss: 0.9218 - val_loss: 0.7972\n",
      "Epoch 103/200\n",
      "6687/6687 - 0s - loss: 0.8420 - val_loss: 0.7468\n",
      "Epoch 104/200\n",
      "6687/6687 - 0s - loss: 0.8354 - val_loss: 0.8762\n",
      "Epoch 105/200\n",
      "6687/6687 - 0s - loss: 0.9025 - val_loss: 1.0174\n",
      "Epoch 106/200\n",
      "6687/6687 - 0s - loss: 0.9121 - val_loss: 0.8513\n",
      "Epoch 107/200\n",
      "6687/6687 - 0s - loss: 0.8496 - val_loss: 0.9693\n",
      "Epoch 108/200\n",
      "6687/6687 - 0s - loss: 0.8670 - val_loss: 0.8172\n",
      "Epoch 00108: early stopping\n",
      "Score_train (RMSE): 0.8623731732368469\n",
      "Score_test (RMSE): 0.8641733527183533\n"
     ]
    },
    {
     "data": {
      "image/png": "[encoded data removed]",
      "text/plain": [
       "<Figure size 432x288 with 1 Axes>"
      ]
     },
     "metadata": {
      "needs_background": "light"
     },
     "output_type": "display_data"
    },
    {
     "data": {
      "image/png": "[encoded data removed]",
      "text/plain": [
       "<Figure size 432x288 with 1 Axes>"
      ]
     },
     "metadata": {
      "needs_background": "light"
     },
     "output_type": "display_data"
    },
    {
     "name": "stdout",
     "output_type": "stream",
     "text": [
      "Optimizer  used:  adam  Activation Function used :  tanh\n",
      "Train on 6687 samples, validate on 2867 samples\n",
      "Epoch 1/200\n",
      "6687/6687 - 2s - loss: 2439.3934 - val_loss: 2017.6296\n",
      "Epoch 2/200\n",
      "6687/6687 - 0s - loss: 2097.9078 - val_loss: 1772.2509\n",
      "Epoch 3/200\n",
      "6687/6687 - 0s - loss: 1867.3190 - val_loss: 1567.6059\n",
      "Epoch 4/200\n",
      "6687/6687 - 0s - loss: 1666.4710 - val_loss: 1388.1498\n",
      "Epoch 5/200\n",
      "6687/6687 - 0s - loss: 1487.5950 - val_loss: 1228.8145\n",
      "Epoch 6/200\n",
      "6687/6687 - 0s - loss: 1329.5088 - val_loss: 1089.6109\n",
      "Epoch 7/200\n",
      "6687/6687 - 0s - loss: 1189.1911 - val_loss: 966.9959\n",
      "Epoch 8/200\n",
      "6687/6687 - 0s - loss: 1064.5509 - val_loss: 859.0622\n",
      "Epoch 9/200\n",
      "6687/6687 - 0s - loss: 953.5595 - val_loss: 763.3913\n",
      "Epoch 10/200\n",
      "6687/6687 - 0s - loss: 854.6176 - val_loss: 680.0609\n",
      "Epoch 11/200\n",
      "6687/6687 - 0s - loss: 766.4800 - val_loss: 604.5591\n",
      "Epoch 12/200\n",
      "6687/6687 - 0s - loss: 687.6106 - val_loss: 538.8085\n",
      "Epoch 13/200\n",
      "6687/6687 - 0s - loss: 616.9314 - val_loss: 480.3365\n",
      "Epoch 14/200\n",
      "6687/6687 - 0s - loss: 554.0788 - val_loss: 427.8661\n",
      "Epoch 15/200\n",
      "6687/6687 - 0s - loss: 497.9323 - val_loss: 382.3586\n",
      "Epoch 16/200\n",
      "6687/6687 - 0s - loss: 447.6341 - val_loss: 341.6158\n",
      "Epoch 17/200\n",
      "6687/6687 - 0s - loss: 402.5698 - val_loss: 305.7679\n",
      "Epoch 18/200\n",
      "6687/6687 - 0s - loss: 362.2341 - val_loss: 273.4507\n",
      "Epoch 19/200\n",
      "6687/6687 - 0s - loss: 326.4504 - val_loss: 244.9072\n",
      "Epoch 20/200\n",
      "6687/6687 - 0s - loss: 294.0479 - val_loss: 220.5855\n",
      "Epoch 21/200\n",
      "6687/6687 - 0s - loss: 265.2859 - val_loss: 197.9179\n",
      "Epoch 22/200\n",
      "6687/6687 - 0s - loss: 239.5946 - val_loss: 178.0632\n",
      "Epoch 23/200\n",
      "6687/6687 - 0s - loss: 216.2903 - val_loss: 160.6704\n",
      "Epoch 24/200\n",
      "6687/6687 - 0s - loss: 195.4238 - val_loss: 144.3744\n",
      "Epoch 25/200\n",
      "6687/6687 - 0s - loss: 176.3947 - val_loss: 129.8659\n",
      "Epoch 26/200\n",
      "6687/6687 - 0s - loss: 159.1203 - val_loss: 117.8427\n",
      "Epoch 27/200\n",
      "6687/6687 - 0s - loss: 143.2473 - val_loss: 104.9000\n",
      "Epoch 28/200\n",
      "6687/6687 - 0s - loss: 128.7552 - val_loss: 94.1701\n",
      "Epoch 29/200\n",
      "6687/6687 - 0s - loss: 115.6045 - val_loss: 84.4885\n",
      "Epoch 30/200\n",
      "6687/6687 - 0s - loss: 103.6633 - val_loss: 75.5054\n",
      "Epoch 31/200\n",
      "6687/6687 - 0s - loss: 92.6324 - val_loss: 67.1880\n",
      "Epoch 32/200\n",
      "6687/6687 - 0s - loss: 82.6506 - val_loss: 59.9658\n",
      "Epoch 33/200\n",
      "6687/6687 - 0s - loss: 73.5972 - val_loss: 53.2089\n",
      "Epoch 34/200\n",
      "6687/6687 - 0s - loss: 65.5515 - val_loss: 47.5438\n",
      "Epoch 35/200\n",
      "6687/6687 - 0s - loss: 58.3793 - val_loss: 42.2702\n",
      "Epoch 36/200\n",
      "6687/6687 - 0s - loss: 51.8641 - val_loss: 37.7376\n",
      "Epoch 37/200\n",
      "6687/6687 - 0s - loss: 46.1830 - val_loss: 33.4543\n",
      "Epoch 38/200\n",
      "6687/6687 - 0s - loss: 40.9616 - val_loss: 29.6856\n",
      "Epoch 39/200\n",
      "6687/6687 - 0s - loss: 36.5314 - val_loss: 26.9173\n",
      "Epoch 40/200\n",
      "6687/6687 - 0s - loss: 32.5139 - val_loss: 24.4353\n",
      "Epoch 41/200\n",
      "6687/6687 - 0s - loss: 28.9735 - val_loss: 21.4019\n",
      "Epoch 42/200\n",
      "6687/6687 - 0s - loss: 25.7273 - val_loss: 19.2494\n",
      "Epoch 43/200\n",
      "6687/6687 - 0s - loss: 23.0302 - val_loss: 17.3113\n",
      "Epoch 44/200\n",
      "6687/6687 - 0s - loss: 20.5445 - val_loss: 15.6192\n",
      "Epoch 45/200\n",
      "6687/6687 - 0s - loss: 18.4417 - val_loss: 14.1783\n",
      "Epoch 46/200\n",
      "6687/6687 - 0s - loss: 16.4875 - val_loss: 13.1199\n",
      "Epoch 47/200\n",
      "6687/6687 - 0s - loss: 14.9426 - val_loss: 11.6889\n",
      "Epoch 48/200\n",
      "6687/6687 - 0s - loss: 13.2660 - val_loss: 10.6096\n",
      "Epoch 49/200\n",
      "6687/6687 - 0s - loss: 11.9069 - val_loss: 9.6389\n",
      "Epoch 50/200\n",
      "6687/6687 - 0s - loss: 10.7597 - val_loss: 8.7398\n",
      "Epoch 51/200\n",
      "6687/6687 - 0s - loss: 9.6352 - val_loss: 7.8371\n",
      "Epoch 52/200\n",
      "6687/6687 - 0s - loss: 8.6245 - val_loss: 7.2078\n",
      "Epoch 53/200\n",
      "6687/6687 - 0s - loss: 7.7823 - val_loss: 7.2472\n",
      "Epoch 54/200\n",
      "6687/6687 - 0s - loss: 7.1320 - val_loss: 5.9166\n",
      "Epoch 55/200\n",
      "6687/6687 - 0s - loss: 6.3807 - val_loss: 5.7579\n",
      "Epoch 56/200\n",
      "6687/6687 - 0s - loss: 5.6512 - val_loss: 4.8655\n",
      "Epoch 57/200\n",
      "6687/6687 - 0s - loss: 5.2929 - val_loss: 4.4038\n",
      "Epoch 58/200\n",
      "6687/6687 - 0s - loss: 4.7217 - val_loss: 3.8330\n",
      "Epoch 59/200\n",
      "6687/6687 - 0s - loss: 4.1800 - val_loss: 3.9200\n",
      "Epoch 60/200\n",
      "6687/6687 - 0s - loss: 3.6454 - val_loss: 3.3054\n",
      "Epoch 61/200\n",
      "6687/6687 - 0s - loss: 3.2827 - val_loss: 4.2349\n",
      "Epoch 62/200\n",
      "6687/6687 - 0s - loss: 3.0194 - val_loss: 2.5740\n",
      "Epoch 63/200\n",
      "6687/6687 - 0s - loss: 2.6056 - val_loss: 2.7102\n",
      "Epoch 64/200\n",
      "6687/6687 - 0s - loss: 2.3329 - val_loss: 2.2428\n",
      "Epoch 65/200\n",
      "6687/6687 - 0s - loss: 2.1233 - val_loss: 2.2359\n",
      "Epoch 66/200\n",
      "6687/6687 - 1s - loss: 1.8611 - val_loss: 1.7241\n",
      "Epoch 67/200\n",
      "6687/6687 - 0s - loss: 1.7824 - val_loss: 1.5457\n",
      "Epoch 68/200\n",
      "6687/6687 - 0s - loss: 1.6224 - val_loss: 1.5845\n",
      "Epoch 69/200\n",
      "6687/6687 - 0s - loss: 1.6766 - val_loss: 1.4474\n",
      "Epoch 70/200\n",
      "6687/6687 - 0s - loss: 1.4212 - val_loss: 1.4262\n",
      "Epoch 71/200\n",
      "6687/6687 - 0s - loss: 1.3899 - val_loss: 1.5609\n",
      "Epoch 72/200\n",
      "6687/6687 - 0s - loss: 1.2698 - val_loss: 1.0758\n",
      "Epoch 73/200\n",
      "6687/6687 - 0s - loss: 1.2036 - val_loss: 0.9331\n",
      "Epoch 74/200\n",
      "6687/6687 - 0s - loss: 1.0948 - val_loss: 1.0122\n",
      "Epoch 75/200\n",
      "6687/6687 - 0s - loss: 1.0557 - val_loss: 0.9241\n",
      "Epoch 76/200\n",
      "6687/6687 - 0s - loss: 1.0136 - val_loss: 1.0599\n",
      "Epoch 77/200\n",
      "6687/6687 - 0s - loss: 1.1007 - val_loss: 1.0109\n",
      "Epoch 78/200\n",
      "6687/6687 - 0s - loss: 1.0945 - val_loss: 1.0315\n",
      "Epoch 79/200\n",
      "6687/6687 - 1s - loss: 1.0559 - val_loss: 0.8806\n",
      "Epoch 80/200\n",
      "6687/6687 - 0s - loss: 1.0141 - val_loss: 0.8682\n",
      "Epoch 81/200\n",
      "6687/6687 - 0s - loss: 0.9691 - val_loss: 0.8924\n",
      "Epoch 82/200\n",
      "6687/6687 - 0s - loss: 0.9292 - val_loss: 0.8081\n",
      "Epoch 83/200\n",
      "6687/6687 - 0s - loss: 0.9703 - val_loss: 0.9640\n",
      "Epoch 84/200\n",
      "6687/6687 - 0s - loss: 0.9025 - val_loss: 0.8670\n",
      "Epoch 85/200\n",
      "6687/6687 - 0s - loss: 1.0990 - val_loss: 1.0044\n",
      "Epoch 86/200\n",
      "6687/6687 - 0s - loss: 1.0387 - val_loss: 1.0647\n",
      "Epoch 87/200\n",
      "6687/6687 - 0s - loss: 0.9332 - val_loss: 0.8036\n",
      "Epoch 88/200\n",
      "6687/6687 - 0s - loss: 1.0359 - val_loss: 0.7538\n",
      "Epoch 89/200\n",
      "6687/6687 - 0s - loss: 0.9695 - val_loss: 1.0026\n",
      "Epoch 90/200\n",
      "6687/6687 - 0s - loss: 1.0401 - val_loss: 1.2672\n",
      "Epoch 91/200\n",
      "6687/6687 - 0s - loss: 0.8900 - val_loss: 0.7137\n",
      "Epoch 92/200\n",
      "6687/6687 - 0s - loss: 1.1013 - val_loss: 1.1474\n",
      "Epoch 93/200\n",
      "6687/6687 - 0s - loss: 1.0196 - val_loss: 1.7753\n",
      "Epoch 94/200\n",
      "6687/6687 - 0s - loss: 0.9926 - val_loss: 1.1046\n",
      "Epoch 95/200\n",
      "6687/6687 - 0s - loss: 0.9061 - val_loss: 0.9836\n",
      "Epoch 96/200\n",
      "6687/6687 - 0s - loss: 0.8778 - val_loss: 0.9728\n",
      "Epoch 00096: early stopping\n",
      "Score_train (RMSE): 0.8352257609367371\n",
      "Score_test (RMSE): 0.8447821736335754\n"
     ]
    },
    {
     "data": {
      "image/png": "[encoded data removed]",
      "text/plain": [
       "<Figure size 432x288 with 1 Axes>"
      ]
     },
     "metadata": {
      "needs_background": "light"
     },
     "output_type": "display_data"
    },
    {
     "data": {
      "image/png": "[encoded data removed]",
      "text/plain": [
       "<Figure size 432x288 with 1 Axes>"
      ]
     },
     "metadata": {
      "needs_background": "light"
     },
     "output_type": "display_data"
    },
    {
     "name": "stdout",
     "output_type": "stream",
     "text": [
      "Optimizer  used:  sgd  Activation Function used :  relu\n",
      "Train on 6687 samples, validate on 2867 samples\n",
      "Epoch 1/200\n",
      "6687/6687 - 1s - loss: nan - val_loss: nan\n",
      "Epoch 2/200\n",
      "6687/6687 - 0s - loss: nan - val_loss: nan\n",
      "Epoch 3/200\n",
      "6687/6687 - 0s - loss: nan - val_loss: nan\n",
      "Epoch 4/200\n",
      "6687/6687 - 0s - loss: nan - val_loss: nan\n",
      "Epoch 5/200\n",
      "6687/6687 - 0s - loss: nan - val_loss: nan\n",
      "Epoch 00005: early stopping\n",
      "Score_train (RMSE): 295.7110900878906\n",
      "Score_test (RMSE): 285.6061096191406\n"
     ]
    },
    {
     "data": {
      "image/png": "[encoded data removed]",
      "text/plain": [
       "<Figure size 432x288 with 1 Axes>"
      ]
     },
     "metadata": {
      "needs_background": "light"
     },
     "output_type": "display_data"
    },
    {
     "data": {
      "image/png": "[encoded data removed]",
      "text/plain": [
       "<Figure size 432x288 with 1 Axes>"
      ]
     },
     "metadata": {
      "needs_background": "light"
     },
     "output_type": "display_data"
    },
    {
     "name": "stdout",
     "output_type": "stream",
     "text": [
      "Optimizer  used:  sgd  Activation Function used :  sigmoid\n",
      "Train on 6687 samples, validate on 2867 samples\n",
      "Epoch 1/200\n",
      "6687/6687 - 2s - loss: 884.7997 - val_loss: 191.4242\n",
      "Epoch 2/200\n",
      "6687/6687 - 0s - loss: 189.2290 - val_loss: 85.3549\n",
      "Epoch 3/200\n",
      "6687/6687 - 0s - loss: 178.4076 - val_loss: 148.2299\n",
      "Epoch 4/200\n",
      "6687/6687 - 0s - loss: 398.5664 - val_loss: 985.5933\n",
      "Epoch 5/200\n",
      "6687/6687 - 0s - loss: 502.1502 - val_loss: 435.8397\n",
      "Epoch 6/200\n",
      "6687/6687 - 0s - loss: 312.7497 - val_loss: 104.8389\n",
      "Epoch 7/200\n",
      "6687/6687 - 0s - loss: 139.5267 - val_loss: 101.9068\n",
      "Epoch 00007: early stopping\n",
      "Score_train (RMSE): 9.597661018371582\n",
      "Score_test (RMSE): 9.23877239227295\n"
     ]
    },
    {
     "data": {
      "image/png": "[encoded data removed]",
      "text/plain": [
       "<Figure size 432x288 with 1 Axes>"
      ]
     },
     "metadata": {
      "needs_background": "light"
     },
     "output_type": "display_data"
    },
    {
     "data": {
      "image/png": "[encoded data removed]",
      "text/plain": [
       "<Figure size 432x288 with 1 Axes>"
      ]
     },
     "metadata": {
      "needs_background": "light"
     },
     "output_type": "display_data"
    },
    {
     "name": "stdout",
     "output_type": "stream",
     "text": [
      "Optimizer  used:  sgd  Activation Function used :  tanh\n",
      "Train on 6687 samples, validate on 2867 samples\n",
      "Epoch 1/200\n",
      "6687/6687 - 2s - loss: 517.9642 - val_loss: 225.4106\n",
      "Epoch 2/200\n",
      "6687/6687 - 0s - loss: 349.5628 - val_loss: 411.7953\n",
      "Epoch 3/200\n",
      "6687/6687 - 0s - loss: 1613.4838 - val_loss: 1972.1138\n",
      "Epoch 4/200\n",
      "6687/6687 - 0s - loss: 2203.6185 - val_loss: 2141.0340\n",
      "Epoch 5/200\n",
      "6687/6687 - 0s - loss: 2200.0792 - val_loss: 2005.3851\n",
      "Epoch 6/200\n",
      "6687/6687 - 0s - loss: 2206.2838 - val_loss: 2017.5258\n",
      "Epoch 00006: early stopping\n",
      "Score_train (RMSE): 16.203088760375977\n",
      "Score_test (RMSE): 15.01368236541748\n"
     ]
    },
    {
     "data": {
      "image/png": "[encoded data removed]",
      "text/plain": [
       "<Figure size 432x288 with 1 Axes>"
      ]
     },
     "metadata": {
      "needs_background": "light"
     },
     "output_type": "display_data"
    },
    {
     "data": {
      "image/png": "[encoded data removed]",
      "text/plain": [
       "<Figure size 432x288 with 1 Axes>"
      ]
     },
     "metadata": {
      "needs_background": "light"
     },
     "output_type": "display_data"
    }
   ],
   "source": [
    "# List of posible activation functions\n",
    "activation_functions = ['relu','sigmoid','tanh']\n",
    "# List of posible optimizers\n",
    "optimizers = ['adam','sgd']\n",
    "\n",
    "# Loop through all combination of optimizers and activation functions\n",
    "for optimizer in optimizers:\n",
    "  for activ_function in activation_functions:\n",
    "    print(\"Optimizer  used: \", optimizer, \" Activation Function used : \", activ_function)\n",
    "\n",
    "    model = Sequential()\n",
    "    model.add(Dense(64, input_dim=x_train.shape[1], activation=activ_function))\n",
    "    model.add(Dense(32,activation=activ_function))\n",
    "    model.add(Dense(32,activation=activ_function))\n",
    "    model.add(Dense(1))\n",
    "    model.compile(loss='mean_squared_error', optimizer=optimizer)\n",
    "\n",
    "    monitor = EarlyStopping(monitor='val_loss', min_delta=1e-3, patience=5, verbose=1, mode='auto')\n",
    "    checkpointer = ModelCheckpoint(filepath=\"best_weights_NN.hdf5\", verbose=0, save_best_only=True)\n",
    "\n",
    "    model.fit(x_train, y_train,validation_data=(x_test,y_test),callbacks=[monitor,checkpointer],verbose=2,epochs=200)\n",
    "\n",
    "    model.load_weights('best_weights_NN.hdf5')  \n",
    "\n",
    "\n",
    "    pred_train = model.predict(x_train)\n",
    "    score_train = np.sqrt(metrics.mean_squared_error(pred_train,y_train))\n",
    "    print(\"Score_train (RMSE): {}\".format(score_train))\n",
    "\n",
    "    pred_test = model.predict(x_test)\n",
    "    score_test = np.sqrt(metrics.mean_squared_error(pred_test,y_test))\n",
    "    print(\"Score_test (RMSE): {}\".format(score_test))\n",
    "\n",
    "    \n",
    "    #chart_regression(pred.flatten(),y_lstseqtest, sort=True)\n",
    "    chart_regression(pred_train.flatten(),y_train, sort=True)\n",
    "    chart_regression(pred_test.flatten(),y_test, sort=True) "
   ]
  }
 ],
 "metadata": {
  "kernelspec": {
   "display_name": "Python 3",
   "language": "python",
   "name": "python3"
  },
  "language_info": {
   "codemirror_mode": {
    "name": "ipython",
    "version": 3
   },
   "file_extension": ".py",
   "mimetype": "text/x-python",
   "name": "python",
   "nbconvert_exporter": "python",
   "pygments_lexer": "ipython3",
   "version": "3.7.6"
  }
 },
 "nbformat": 4,
 "nbformat_minor": 4
}
